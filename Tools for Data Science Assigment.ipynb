{
 "cells": [
  {
   "cell_type": "markdown",
   "id": "d823f243",
   "metadata": {},
   "source": [
    "# Data Science Notebook\n"
   ]
  },
  {
   "cell_type": "markdown",
   "id": "77b20765",
   "metadata": {},
   "source": [
    "## Introduction\n",
    "\n",
    "This notebook is a collection of exercises related to data science. It covers various topics related to data science such as programming languages, libraries, tools, and arithmetic expressions. The exercises are designed to help beginners get started with data science and practice their skills.\n"
   ]
  },
  {
   "cell_type": "markdown",
   "id": "dae8b167",
   "metadata": {},
   "source": [
    "## Data Science Languages\n",
    "\n",
    "1. Python\n",
    "2. R\n",
    "3. Julia\n",
    "4. Java\n",
    "5. SQL\n"
   ]
  },
  {
   "cell_type": "markdown",
   "id": "43a6c6f6",
   "metadata": {},
   "source": [
    "## Data Science Libraries\n",
    "\n",
    "1. NumPy\n",
    "2. Pandas\n",
    "3. Matplotlib\n",
    "4. Scikit-learn\n",
    "5. TensorFlow\n",
    "6. Keras\n",
    "7. Caret\n"
   ]
  },
  {
   "cell_type": "markdown",
   "id": "21314fda",
   "metadata": {},
   "source": [
    "## Data Science Tools\n",
    "\n",
    "| Tool           | Description                                                     |\n",
    "|----------------|-----------------------------------------------------------------|\n",
    "| Jupyter Notebook | An open-source web application that allows creating and sharing documents with live code, equations, visualizations, and narrative text. |\n",
    "| Anaconda       | A distribution of the Python and R programming languages for scientific computing that aims to simplify package management and deployment. |\n",
    "| Apache Spark   | An open-source distributed computing system used for big data processing and analysis. |\n",
    "| Tableau        | A data visualization and business intelligence tool that helps people see and understand their data. |\n",
    "| Google Colab  | A web application that works on basis od jupyter notebooks. |"
   ]
  },
  {
   "cell_type": "markdown",
   "id": "a74264fb",
   "metadata": {},
   "source": [
    "## Arithmetic Expressions\n",
    "\n",
    "In this section, we will explore some basic arithmetic expressions using Python.\n",
    "\n"
   ]
  },
  {
   "cell_type": "code",
   "execution_count": 2,
   "id": "2dda2410",
   "metadata": {},
   "outputs": [
    {
     "name": "stdout",
     "output_type": "stream",
     "text": [
      "35\n",
      "13\n"
     ]
    }
   ],
   "source": [
    "# multiply two numbers\n",
    "x = 5\n",
    "y = 7\n",
    "z = x * y\n",
    "print(z)\n",
    "\n",
    "# add two numbers\n",
    "a = 10\n",
    "b = 3\n",
    "c = a + b\n",
    "print(c)\n"
   ]
  },
  {
   "cell_type": "code",
   "execution_count": 3,
   "id": "759ffbcd",
   "metadata": {},
   "outputs": [
    {
     "name": "stdout",
     "output_type": "stream",
     "text": [
      "2.0\n"
     ]
    }
   ],
   "source": [
    "# convert minutes to hours\n",
    "minutes = 120\n",
    "hours = minutes / 60\n",
    "print(hours)\n"
   ]
  },
  {
   "cell_type": "markdown",
   "id": "47057461",
   "metadata": {},
   "source": [
    "## Objectives\n",
    "\n",
    "1. Learn about data science languages, libraries, and tools.\n",
    "2. Practice arithmetic expressions using Python.\n",
    "3. Gain hands-on experience with data science tools and libraries.\n"
   ]
  },
  {
   "cell_type": "markdown",
   "id": "cfa29cd9",
   "metadata": {},
   "source": [
    "## Author\n",
    "\n",
    "This notebook was created by Raja Hariharan Ramesh Raj.\n"
   ]
  },
  {
   "cell_type": "code",
   "execution_count": null,
   "id": "ba631de1",
   "metadata": {},
   "outputs": [],
   "source": []
  }
 ],
 "metadata": {
  "kernelspec": {
   "display_name": "Python 3 (ipykernel)",
   "language": "python",
   "name": "python3"
  },
  "language_info": {
   "codemirror_mode": {
    "name": "ipython",
    "version": 3
   },
   "file_extension": ".py",
   "mimetype": "text/x-python",
   "name": "python",
   "nbconvert_exporter": "python",
   "pygments_lexer": "ipython3",
   "version": "3.9.12"
  }
 },
 "nbformat": 4,
 "nbformat_minor": 5
}
